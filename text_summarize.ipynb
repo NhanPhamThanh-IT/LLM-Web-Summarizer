{
 "cells": [
  {
   "cell_type": "markdown",
   "id": "54e3575d",
   "metadata": {},
   "source": [
    "### <strong>Import Modules</strong>"
   ]
  },
  {
   "cell_type": "code",
   "execution_count": 24,
   "id": "f7f8f0f7",
   "metadata": {},
   "outputs": [],
   "source": [
    "import requests\n",
    "from bs4 import BeautifulSoup\n",
    "from IPython.display import Markdown, display\n",
    "import ollama"
   ]
  },
  {
   "cell_type": "markdown",
   "id": "68a04d3f",
   "metadata": {},
   "source": [
    "### <strong>Define Constants</strong>"
   ]
  },
  {
   "cell_type": "code",
   "execution_count": 25,
   "id": "e745c868",
   "metadata": {},
   "outputs": [],
   "source": [
    "MODEL = 'llama3.2'\n",
    "URL = 'https://www.anthropic.com'"
   ]
  },
  {
   "cell_type": "markdown",
   "id": "3dea860f",
   "metadata": {},
   "source": [
    "### <strong><span style=\"color: red\">Website Class</span> Definition</strong>"
   ]
  },
  {
   "cell_type": "code",
   "execution_count": 26,
   "id": "96213e5d",
   "metadata": {},
   "outputs": [],
   "source": [
    "class Website:\n",
    "    url: str\n",
    "    title: str\n",
    "    text: str\n",
    "\n",
    "    def __init__(self, url: str):\n",
    "        self.url = url\n",
    "        response = requests.get(url)\n",
    "        soup = BeautifulSoup(response.content, 'html.parser')\n",
    "        self.title = soup.title.string if soup.title else 'No title found'\n",
    "        for irrelevant in soup(['script', 'style', 'img', 'input']):\n",
    "            irrelevant.decompose()\n",
    "        self.text = soup.body.get_text(separator='\\n', strip=True)"
   ]
  },
  {
   "cell_type": "code",
   "execution_count": 27,
   "id": "24bdb2a9",
   "metadata": {},
   "outputs": [],
   "source": [
    "web = Website(URL)"
   ]
  },
  {
   "cell_type": "code",
   "execution_count": 28,
   "id": "4b24e847",
   "metadata": {},
   "outputs": [
    {
     "name": "stdout",
     "output_type": "stream",
     "text": [
      "Title: Home \\ Anthropic\n"
     ]
    }
   ],
   "source": [
    "print(f\"Title: {web.title}\")"
   ]
  },
  {
   "cell_type": "code",
   "execution_count": 29,
   "id": "262b016c",
   "metadata": {},
   "outputs": [
    {
     "name": "stdout",
     "output_type": "stream",
     "text": [
      "Text: Skip to main content\n",
      "Skip to footer\n",
      "Claude\n",
      "Chat with Claude\n",
      "Overview\n",
      "Max plan\n",
      "Team plan\n",
      "Enterprise plan\n",
      "Explore pricing\n",
      "Download apps\n",
      "Claude log in\n",
      "News\n",
      "Claude’s character\n",
      "API\n",
      "Build with Claude\n",
      "API overview\n",
      "Developer docs\n",
      "Explore pricing\n",
      "Console log in\n",
      "News\n",
      "Learn how to build with Claude\n",
      "Solutions\n",
      "Collaborate with Claude\n",
      "AI agents\n",
      "Coding\n",
      "Customer support\n",
      "Education\n",
      "Financial services\n",
      "Case studies\n",
      "Hear from our customers\n",
      "Research\n",
      "Research\n",
      "Overview\n",
      "Economic Index\n",
      "Claude model family\n",
      "Claude Opus 4\n",
      "Claude Sonnet 4\n",
      "Claude Haiku 3.5\n",
      "Research\n",
      "Claude’s extended thinking\n",
      "Commitments\n",
      "Initiatives\n",
      "Transparency\n",
      "Responsible scaling policy\n",
      "Trust center\n",
      "Security and compliance\n",
      "Announcement\n",
      "ISO 42001 certification\n",
      "Learn\n",
      "Learning resources\n",
      "Customer stories\n",
      "Engineering at Anthropic\n",
      "Anthropic Academy\n",
      "Company\n",
      "About\n",
      "Careers\n",
      "Events\n",
      "Engineering\n",
      "Building effective agents\n",
      "News\n",
      "EN\n",
      "This is some text inside of a div block.\n",
      "Try Claude\n",
      "Try Claude\n",
      "Try Claude\n",
      "Download App\n",
      "Download App\n",
      "Download App\n",
      "Claude\n",
      "Chat with Claude\n",
      "Overview\n",
      "Max plan\n",
      "Team plan\n",
      "Enterprise plan\n",
      "Explore pricing\n",
      "Download apps\n",
      "Claude log in\n",
      "News\n",
      "Claude’s character\n",
      "API\n",
      "Build with Claude\n",
      "API overview\n",
      "Developer docs\n",
      "Explore pricing\n",
      "Console log in\n",
      "News\n",
      "Learn how to build with Claude\n",
      "Solutions\n",
      "Collaborate with Claude\n",
      "AI agents\n",
      "Coding\n",
      "Customer support\n",
      "Education\n",
      "Financial services\n",
      "Case studies\n",
      "Hear from our customers\n",
      "Research\n",
      "Research\n",
      "Overview\n",
      "Economic Index\n",
      "Claude model family\n",
      "Claude Opus 4\n",
      "Claude Sonnet 4\n",
      "Claude Haiku 3.5\n",
      "Research\n",
      "Claude’s extended thinking\n",
      "Commitments\n",
      "Initiatives\n",
      "Transparency\n",
      "Responsible scaling policy\n",
      "Trust center\n",
      "Security and compliance\n",
      "Announcement\n",
      "ISO 42001 certification\n",
      "Learn\n",
      "Learning resources\n",
      "Customer stories\n",
      "Engineering at Anthropic\n",
      "Anthropic Academy\n",
      "Company\n",
      "About\n",
      "Careers\n",
      "Events\n",
      "Engineering\n",
      "Building effective agents\n",
      "News\n",
      "EN\n",
      "This is some text inside of a div block.\n",
      "Try Claude\n",
      "Try Claude\n",
      "Try Claude\n",
      "Download App\n",
      "Download App\n",
      "Download App\n",
      "AI\n",
      "research\n",
      "and\n",
      "products\n",
      "that put safety at the frontier\n",
      "Claude.ai\n",
      "Meet Claude Opus 4\n",
      "Claude Opus 4, our most intelligent AI model, is now available.\n",
      "Talk to Claude\n",
      "Talk to Claude\n",
      "Talk to Claude\n",
      "API\n",
      "Build with Claude\n",
      "Create AI-powered applications and custom experiences using Claude.\n",
      "Learn more\n",
      "Learn more\n",
      "Learn more\n",
      "Claude Opus 4 and Sonnet 4\n",
      "Our most powerful models yet, pushing the frontier for coding and AI agents—and enabling Claude to handle hours of work across Claude and Claude Code.\n",
      "Read announcement\n",
      "Read announcement\n",
      "Read announcement\n",
      "Model details\n",
      "Opus 4\n",
      "Learn more Claude Opus 4\n",
      "Learn more Claude Opus 4\n",
      "Model details\n",
      "Sonnet 4\n",
      "Learn more about Sonnet 4\n",
      "Learn more about Sonnet 4\n",
      "“\n",
      "If knowledge is power and we’re building machines that have more knowledge than us, what will happen between us and the machines?\n",
      "Deep Ganguli\n",
      "Research Lead, Societal Impacts\n",
      "At Anthropic, we build AI to serve humanity’s long-term well-being.\n",
      "‍\n",
      "While no one can foresee every outcome AI will have on society, we do know that designing powerful technologies requires both bold steps forward and intentional pauses to consider the effects.\n",
      "That’s why we focus on building tools with human benefit at their foundation, like Claude. Through our daily research, policy work, and product design, we aim to show what responsible AI development looks like in practice.\n",
      "Core Views on AI Safety\n",
      "Learn more about our views on AI Safety\n",
      "Learn more about our views on AI Safety\n",
      "Anthropic’s Responsible Scaling Policy\n",
      "Learn more about our Responsible Scaling Policy\n",
      "Learn more about our Responsible Scaling Policy\n",
      "Anthropic Academy: Learn to build with Claude\n",
      "Access Anthropic Academy\n",
      "Access Anthropic Academy\n",
      "Featured\n",
      "Project Vend\n",
      "Policy\n",
      "Jun 26, 2025\n",
      "Agentic Misalignment\n",
      "Alignment\n",
      "Jun 20, 2025\n",
      "Introducing Claude 4\n",
      "Announcements\n",
      "May 22, 2025\n",
      "Tracing the thoughts of a large language model\n",
      "Interpretability\n",
      "Mar 27, 2025\n",
      "Anthropic Economic Index\n",
      "Societal impacts\n",
      "Mar 27, 2025\n",
      "Introducing the Model Context Protocol\n",
      "Product\n",
      "Nov 25, 2024\n",
      "Want to help us build the future of safe AI?\n",
      "See open roles\n",
      "See open roles\n",
      "See open roles\n",
      "Speak with sales\n",
      "Speak with sales\n",
      "Speak with sales\n",
      "Footer\n",
      "Product\n",
      "Claude overview\n",
      "Claude Code\n",
      "Max plan\n",
      "Team plan\n",
      "Enterprise plan\n",
      "Download Claude apps\n",
      "Claude.ai pricing plans\n",
      "Claude.ai login\n",
      "API Platform\n",
      "API overview\n",
      "Developer docs\n",
      "Claude in Amazon Bedrock\n",
      "Claude on Google Cloud’s Vertex AI\n",
      "Pricing\n",
      "Console login\n",
      "Research\n",
      "Research overview\n",
      "Economic Index\n",
      "Claude models\n",
      "Claude Opus 4\n",
      "Claude Sonnet 4\n",
      "Claude Haiku 3.5\n",
      "Commitments\n",
      "Transparency\n",
      "Responsible scaling policy\n",
      "Security and compliance\n",
      "Solutions\n",
      "AI agents\n",
      "Coding\n",
      "Customer support\n",
      "Education\n",
      "Financial services\n",
      "Learn\n",
      "Anthropic Academy\n",
      "Customer stories\n",
      "Engineering at Anthropic\n",
      "MCP Integrations\n",
      "Partner Directory\n",
      "Explore\n",
      "About us\n",
      "Become a partner\n",
      "Careers\n",
      "Events\n",
      "News\n",
      "Startups program\n",
      "Help and security\n",
      "Status\n",
      "Availability\n",
      "Support center\n",
      "Terms and policies\n",
      "Privacy choices\n",
      "Cookie Settings\n",
      "We use cookies to deliver and improve our services, analyze site usage, and if you agree, to customize or personalize your experience and market our services to you. You can read our Cookie Policy\n",
      "here\n",
      ".\n",
      "Customize\n",
      "cookie settings\n",
      "Reject\n",
      "all cookies\n",
      "Accept\n",
      "all cookies\n",
      "Necessary\n",
      "Enables security and basic functionality.\n",
      "Required\n",
      "Analytics\n",
      "Enables tracking of site performance.\n",
      "Off\n",
      "Marketing\n",
      "Enables ads personalization and tracking.\n",
      "Off\n",
      "Save preferences\n",
      "Privacy policy\n",
      "Responsible disclosure policy\n",
      "Terms of service - consumer\n",
      "Terms of service - commercial\n",
      "Usage policy\n",
      "©\n",
      "2024\n",
      "Anthropic PBC\n"
     ]
    }
   ],
   "source": [
    "print(f\"Text: {web.text}\")"
   ]
  },
  {
   "cell_type": "markdown",
   "id": "8c3d9a03",
   "metadata": {},
   "source": [
    "### <strong>Design a System Prompt</strong>"
   ]
  },
  {
   "cell_type": "code",
   "execution_count": null,
   "id": "68caa60b",
   "metadata": {},
   "outputs": [],
   "source": [
    "system_prompt = \"You are an assistant that analyzes the content of a website \\\n",
    "and provides a short summary, ignoring text that might be navigation related. \\\n",
    "Respond in markdown.\""
   ]
  },
  {
   "cell_type": "markdown",
   "id": "7d5d9c66",
   "metadata": {},
   "source": [
    "### <strong>Design a User Prompt</strong>"
   ]
  },
  {
   "cell_type": "code",
   "execution_count": 31,
   "id": "8053a343",
   "metadata": {},
   "outputs": [],
   "source": [
    "def user_prompt_for(website: Website) -> str:\n",
    "    user_prompt = f\"You are looking at a website titled '{website.title}'.\"\n",
    "    user_prompt += \"The contents of the website is as follows; \\\n",
    "    please provide a short summary of this website in markdown. \\\n",
    "    If it includes news or announcements, then summarize these too.\\n\\n\"\n",
    "    user_prompt += website.text\n",
    "    return user_prompt"
   ]
  },
  {
   "cell_type": "markdown",
   "id": "f599c0ae",
   "metadata": {},
   "source": [
    "### <strong>Design a Chat Message</strong>"
   ]
  },
  {
   "cell_type": "code",
   "execution_count": null,
   "id": "ee3a8747",
   "metadata": {},
   "outputs": [],
   "source": [
    "def messages_for(website: Website) -> list:\n",
    "    return [\n",
    "        {\"role\": \"system\", \"content\": system_prompt},\n",
    "        {\"role\": \"user\", \"content\": user_prompt_for(website)}\n",
    "    ]"
   ]
  },
  {
   "cell_type": "markdown",
   "id": "9fa4a177",
   "metadata": {},
   "source": [
    "### <strong>Ollama Usage</strong>"
   ]
  },
  {
   "cell_type": "code",
   "execution_count": 33,
   "id": "dac105e2",
   "metadata": {},
   "outputs": [],
   "source": [
    "# Call ollama function\n",
    "\n",
    "def summarize(url: str) -> str:\n",
    "    website = Website(url)\n",
    "    messages = messages_for(website)\n",
    "    response = ollama.chat(model=MODEL, messages=messages)\n",
    "    return response['message']['content']"
   ]
  },
  {
   "cell_type": "code",
   "execution_count": 34,
   "id": "0abebfc2",
   "metadata": {},
   "outputs": [
    {
     "data": {
      "text/plain": [
       "\"**Summary**\\n Anthropic is an organization that builds AI models, with a focus on safety and human benefit. Their flagship model, Claude, is an AI agent that can be used to build applications and experiences.\\n\\n### News Announcements\\n\\n* **ISO 42001 Certification**: Anthropic has achieved ISO 42001 certification for its responsible scaling policy.\\n* **Claude Opus 4 Available**: The most intelligent AI model, Claude Opus 4, is now available. It can handle hours of work across multiple applications.\\n* **Claude Sonnet 4 and Haiku 3.5 Released**: New powerful models that push the frontier for coding and AI agents.\\n\\n### Research\\n\\n* Anthropic's views on AI Safety are focused on building tools with human benefit at their foundation.\\n* The organization aims to show what responsible AI development looks like in practice through its daily research, policy work, and product design.\\n* The Anthropic Economic Index measures societal impacts of AI.\\n* The Model Context Protocol is a new initiative that improves interpretability.\\n\\n### Latest Updates\\n\\n* **Project Vend**: A project related to agentic misalignment alignment.\\n* **Introducing Claude 4**: An announcement about the release of Claude Opus 4.\\n* **Tracing thoughts of a large language model**: Research on understanding the thought process of a large language model.\""
      ]
     },
     "execution_count": 34,
     "metadata": {},
     "output_type": "execute_result"
    }
   ],
   "source": [
    "summarize(URL)"
   ]
  },
  {
   "cell_type": "markdown",
   "id": "8ce75e96",
   "metadata": {},
   "source": [
    "### <strong>Nicely Output Using Markdown</strong>"
   ]
  },
  {
   "cell_type": "code",
   "execution_count": 35,
   "id": "e24adc7e",
   "metadata": {},
   "outputs": [],
   "source": [
    "def display_summary(url: str):\n",
    "    summary = summarize(url)\n",
    "    display(Markdown(summary))"
   ]
  },
  {
   "cell_type": "code",
   "execution_count": 36,
   "id": "d112b474",
   "metadata": {},
   "outputs": [
    {
     "data": {
      "text/markdown": [
       "**Summary**\n",
       "Anthropic is a company that builds AI-powered applications and models, with a focus on safety and human benefit. Their flagship product, Claude, is an intelligent AI model that can be used to build custom experiences.\n",
       "\n",
       "**News/Announcements**\n",
       "\n",
       "* **Claude Opus 4**: Anthropic's most powerful AI model yet, available now.\n",
       "* **ISO 42001 certification**: Anthropic has achieved this certification for its Responsible Scaling Policy.\n",
       "* **Model details**: Information about Claude Opus 4 and Sonnet 4, including their capabilities and limitations.\n",
       "\n",
       "**Research**\n",
       "\n",
       "* **Anthropic Economic Index**: A research tool that provides insights into the economic impacts of AI on society.\n",
       "* **Claude’s extended thinking**: Research on the potential implications of AI surpassing human knowledge and understanding.\n",
       "* **Transparency**: Anthropic's commitment to transparency in its research and product development.\n",
       "\n",
       "**Product**\n",
       "\n",
       "* **Claude overview**: Information about Claude, including its features and capabilities.\n",
       "* **Claude Code**: A platform for building custom AI applications with Claude.\n",
       "* **Max plan**, **Team plan**, and **Enterprise plan**: Pricing plans for Claude.\n",
       "\n",
       "**Company**\n",
       "\n",
       "* **About**: Information about Anthropic's mission, values, and history.\n",
       "* **Careers**: Opportunities to work at Anthropic.\n",
       "* **Events**: Upcoming events and webinars hosted by Anthropic."
      ],
      "text/plain": [
       "<IPython.core.display.Markdown object>"
      ]
     },
     "metadata": {},
     "output_type": "display_data"
    }
   ],
   "source": [
    "display_summary(URL)"
   ]
  }
 ],
 "metadata": {
  "kernelspec": {
   "display_name": "Python (tensorflow_env)",
   "language": "python",
   "name": "tensorflow_env"
  },
  "language_info": {
   "codemirror_mode": {
    "name": "ipython",
    "version": 3
   },
   "file_extension": ".py",
   "mimetype": "text/x-python",
   "name": "python",
   "nbconvert_exporter": "python",
   "pygments_lexer": "ipython3",
   "version": "3.11.9"
  }
 },
 "nbformat": 4,
 "nbformat_minor": 5
}
